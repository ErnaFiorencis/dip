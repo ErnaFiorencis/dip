{
 "cells": [
  {
   "cell_type": "code",
   "execution_count": null,
   "id": "f40465e0",
   "metadata": {},
   "outputs": [],
   "source": [
    "from together import Together\n",
    "import time\n",
    "\n",
    "api_key = 'bd016d8315ee8148b47b55000ec79029ab67381678cc27eff4b45a7a5b2d7890'\n",
    "\n",
    "system_prompt = f\"\"\"\n",
    "    Tvoj posao je generirati kviz pitanja za učenike 1. razreda srednje škole. Slijedi ova pravila:\n",
    "    - Generiraj 5 jedinstvenih pitanja o \"Povijest Egipta\"\n",
    "    - Koristi jednostavan i jasan Hrvatski jezik\n",
    "    - Pruži 4 moguća odgovora po pitanju\n",
    "    - Samo jedan točan odgovor po pitanju\n",
    "    - Ne ponavljaj već postavljena pitanja, ali ih iskoristi za inspiraciju: nema prijašnjih pitanja\n",
    "    - Formatiraj odgovor kao:\n",
    "    Pitanje: [pitanje]\n",
    "    Odgovori: [odgovor1], [odgovor2], [odgovor3], [odgovor4]\n",
    "    Točan odgovor: [broj 1-4]\n",
    "    - Bez dodatnog teksta ili objašnjenja\n",
    "    - Ne koristi oznake za formatiranje\n",
    "\"\"\"\n",
    "\n",
    "topic_prompt = f\"\"\"\n",
    "- Egiptologija i hijeroglifi: Povijest Egipta proučava Egiptologija, koja se razvila krajem 18. stoljeća. Ključno otkriće bio je Kamen iz Rosette, koji je omogućio dešifriranje hijeroglifa.\n",
    "- Nil – Dar Egipta: Rijeka Nil bila je temelj opstanka Egipta, osiguravala plodnu zemlju i omogućila uspješnu poljoprivredu.\n",
    "- Izolacija i optimizam: Egipćani su vjerovali u svoje bogove i zagrobni život, a geografska izolacija štitila ih je od vanjskih utjecaja.\n",
    "- Faraoni i vlast: Vladari su bili smatrani bogovima, a centralizirana vlast omogućila je monumentalne građevine poput piramida.\n",
    "- Religija i zagrobni život: Bogovi poput Ra, Amona i Ozirisa imali su važnu ulogu. Mrtvi su mumificirani kako bi osigurali vječni život.\n",
    "- Širenje i ratovi: Tijekom Nove Države Egipat se proširio zahvaljujući osvajanjima i sukobima s Hetitima.\n",
    "- Umjetnost i znanost: Egipćani su razvili hijeroglifno pismo, matematičke metode i naprednu arhitekturu.\n",
    "\"\"\"\n",
    "topic_prompt2 = ''\n",
    "#https://docs.together.ai/docs/quickstart\n",
    "\n",
    "client = Together(api_key=api_key)\n"
   ]
  },
  {
   "cell_type": "markdown",
   "id": "33a7a96c",
   "metadata": {},
   "source": [
    "'Qwen/QwQ-32B', 'mistralai/Mistral-7B-Instruct-v0.3', 'google/gemma-2-27b-it', "
   ]
  },
  {
   "cell_type": "code",
   "execution_count": null,
   "id": "534fb749",
   "metadata": {},
   "outputs": [],
   "source": [
    "models = ['meta-llama/Llama-3.3-70B-Instruct-Turbo', 'meta-llama/Llama-3.3-70B-Instruct-Turbo-Free', 'togethercomputer/Refuel-Llm-V2-Small', 'Qwen/QwQ-32B', 'mistralai/Mistral-7B-Instruct-v0.3', 'google/gemma-2-27b-it', 'marin-community/marin-8b-instruct', 'meta-llama/Llama-4-Maverick-17B-128E-Instruct-FP8','perplexity-ai/r1-1776']\n",
    "for model in models:\n",
    "    with open(\"results2.txt\", \"a\", encoding=\"utf-8\") as f:\n",
    "        f.write(f\"Model: {model}\\n\")\n",
    "        output = client.chat.completions.create(\n",
    "            model=model,\n",
    "            messages=[\n",
    "                {\"role\": \"system\", \"content\": system_prompt},\n",
    "                {\"role\": \"user\", \"content\": topic_prompt}\n",
    "            ],\n",
    "            temperature=0.7,\n",
    "            max_tokens=1000\n",
    "        )\n",
    "        f.write(output.choices[0].message.content.strip() + \"\\n\\n\")\n",
    "        start = time.time()\n",
    "        output = client.chat.completions.create(\n",
    "            model=model,\n",
    "            messages=[\n",
    "                {\"role\": \"system\", \"content\": system_prompt},\n",
    "                {\"role\": \"user\", \"content\": topic_prompt2}\n",
    "            ],\n",
    "            temperature=0.7,\n",
    "            max_tokens=1000\n",
    "        )\n",
    "        end = time.time()\n",
    "        f.write(\"Without topic: prompt\" + \"\\n\")\n",
    "        f.write(output.choices[0].message.content.strip() + \"\\n\")\n",
    "        f.write(f\"Time taken: {end - start} seconds\\n\")\n",
    "        f.write(\"---------------------------\\n\")\n",
    "\n"
   ]
  },
  {
   "cell_type": "code",
   "execution_count": 17,
   "id": "e91db2ac",
   "metadata": {},
   "outputs": [],
   "source": [
    "\n",
    "with open(\"results.txt\", \"a\", encoding=\"utf-8\") as f:\n",
    "\n",
    "    start = time.time()\n",
    "    output = client.chat.completions.create(\n",
    "        model=\"perplexity-ai/r1-1776\",\n",
    "        messages=[\n",
    "            {\"role\": \"system\", \"content\": system_prompt},\n",
    "            {\"role\": \"user\", \"content\": topic_prompt2}\n",
    "        ],\n",
    "        temperature=0.7,\n",
    "        max_tokens=1000\n",
    "    )\n",
    "    end = time.time()\n",
    "    f.write(\"Without topic: prompt\" + \"\\n\")\n",
    "    f.write(output.choices[0].message.content.strip() + \"\\n\")\n",
    "    f.write(f\"Time taken: {end - start} seconds\\n\")\n",
    "    f.write(\"---------------------------\\n\")\n",
    "\n"
   ]
  }
 ],
 "metadata": {
  "kernelspec": {
   "display_name": "Python 3",
   "language": "python",
   "name": "python3"
  },
  "language_info": {
   "codemirror_mode": {
    "name": "ipython",
    "version": 3
   },
   "file_extension": ".py",
   "mimetype": "text/x-python",
   "name": "python",
   "nbconvert_exporter": "python",
   "pygments_lexer": "ipython3",
   "version": "3.10.0"
  }
 },
 "nbformat": 4,
 "nbformat_minor": 5
}
